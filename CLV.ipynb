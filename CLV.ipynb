{
 "cells": [
  {
   "cell_type": "code",
   "execution_count": 213,
   "id": "bbbf6d9e",
   "metadata": {},
   "outputs": [],
   "source": [
    "import pandas as pd\n",
    "import numpy as np\n",
    "from datetime import datetime, timedelta\n",
    "import matplotlib.pyplot as plt\n",
    "import seaborn as sns"
   ]
  },
  {
   "cell_type": "code",
   "execution_count": 214,
   "id": "516fdaff",
   "metadata": {},
   "outputs": [],
   "source": [
    "data = pd.read_csv('online_retail_II(2010-2011).csv',encoding='latin1')"
   ]
  },
  {
   "cell_type": "code",
   "execution_count": 215,
   "id": "16efc7aa",
   "metadata": {},
   "outputs": [
    {
     "name": "stdout",
     "output_type": "stream",
     "text": [
      "<class 'pandas.core.frame.DataFrame'>\n",
      "RangeIndex: 541910 entries, 0 to 541909\n",
      "Data columns (total 8 columns):\n",
      " #   Column       Non-Null Count   Dtype  \n",
      "---  ------       --------------   -----  \n",
      " 0   Invoice      541910 non-null  object \n",
      " 1   StockCode    541910 non-null  object \n",
      " 2   Description  540456 non-null  object \n",
      " 3   Quantity     541910 non-null  int64  \n",
      " 4   InvoiceDate  541910 non-null  object \n",
      " 5   Price        541910 non-null  float64\n",
      " 6   Customer ID  406830 non-null  float64\n",
      " 7   Country      541910 non-null  object \n",
      "dtypes: float64(2), int64(1), object(5)\n",
      "memory usage: 33.1+ MB\n"
     ]
    }
   ],
   "source": [
    "data.info()"
   ]
  },
  {
   "cell_type": "code",
   "execution_count": 216,
   "id": "587c5f87",
   "metadata": {},
   "outputs": [
    {
     "data": {
      "text/plain": [
       "Invoice             0\n",
       "StockCode           0\n",
       "Description      1454\n",
       "Quantity            0\n",
       "InvoiceDate         0\n",
       "Price               0\n",
       "Customer ID    135080\n",
       "Country             0\n",
       "dtype: int64"
      ]
     },
     "execution_count": 216,
     "metadata": {},
     "output_type": "execute_result"
    }
   ],
   "source": [
    "data.isnull().sum()"
   ]
  },
  {
   "cell_type": "code",
   "execution_count": 217,
   "id": "a28d1d22",
   "metadata": {},
   "outputs": [],
   "source": [
    "missing=data[data['Customer ID'].isna()]"
   ]
  },
  {
   "cell_type": "code",
   "execution_count": 218,
   "id": "9e118078",
   "metadata": {},
   "outputs": [
    {
     "data": {
      "text/html": [
       "<div>\n",
       "<style scoped>\n",
       "    .dataframe tbody tr th:only-of-type {\n",
       "        vertical-align: middle;\n",
       "    }\n",
       "\n",
       "    .dataframe tbody tr th {\n",
       "        vertical-align: top;\n",
       "    }\n",
       "\n",
       "    .dataframe thead th {\n",
       "        text-align: right;\n",
       "    }\n",
       "</style>\n",
       "<table border=\"1\" class=\"dataframe\">\n",
       "  <thead>\n",
       "    <tr style=\"text-align: right;\">\n",
       "      <th></th>\n",
       "      <th>Invoice</th>\n",
       "      <th>StockCode</th>\n",
       "      <th>Description</th>\n",
       "      <th>Quantity</th>\n",
       "      <th>InvoiceDate</th>\n",
       "      <th>Price</th>\n",
       "      <th>Customer ID</th>\n",
       "      <th>Country</th>\n",
       "    </tr>\n",
       "  </thead>\n",
       "  <tbody>\n",
       "    <tr>\n",
       "      <th>622</th>\n",
       "      <td>536414</td>\n",
       "      <td>22139</td>\n",
       "      <td>NaN</td>\n",
       "      <td>56</td>\n",
       "      <td>01-12-2010 11:52</td>\n",
       "      <td>0.00</td>\n",
       "      <td>NaN</td>\n",
       "      <td>United Kingdom</td>\n",
       "    </tr>\n",
       "    <tr>\n",
       "      <th>1443</th>\n",
       "      <td>536544</td>\n",
       "      <td>21773</td>\n",
       "      <td>DECORATIVE ROSE BATHROOM BOTTLE</td>\n",
       "      <td>1</td>\n",
       "      <td>01-12-2010 14:32</td>\n",
       "      <td>2.51</td>\n",
       "      <td>NaN</td>\n",
       "      <td>United Kingdom</td>\n",
       "    </tr>\n",
       "    <tr>\n",
       "      <th>1444</th>\n",
       "      <td>536544</td>\n",
       "      <td>21774</td>\n",
       "      <td>DECORATIVE CATS BATHROOM BOTTLE</td>\n",
       "      <td>2</td>\n",
       "      <td>01-12-2010 14:32</td>\n",
       "      <td>2.51</td>\n",
       "      <td>NaN</td>\n",
       "      <td>United Kingdom</td>\n",
       "    </tr>\n",
       "    <tr>\n",
       "      <th>1445</th>\n",
       "      <td>536544</td>\n",
       "      <td>21786</td>\n",
       "      <td>POLKADOT RAIN HAT</td>\n",
       "      <td>4</td>\n",
       "      <td>01-12-2010 14:32</td>\n",
       "      <td>0.85</td>\n",
       "      <td>NaN</td>\n",
       "      <td>United Kingdom</td>\n",
       "    </tr>\n",
       "    <tr>\n",
       "      <th>1446</th>\n",
       "      <td>536544</td>\n",
       "      <td>21787</td>\n",
       "      <td>RAIN PONCHO RETROSPOT</td>\n",
       "      <td>2</td>\n",
       "      <td>01-12-2010 14:32</td>\n",
       "      <td>1.66</td>\n",
       "      <td>NaN</td>\n",
       "      <td>United Kingdom</td>\n",
       "    </tr>\n",
       "  </tbody>\n",
       "</table>\n",
       "</div>"
      ],
      "text/plain": [
       "     Invoice StockCode                      Description  Quantity  \\\n",
       "622   536414     22139                              NaN        56   \n",
       "1443  536544     21773  DECORATIVE ROSE BATHROOM BOTTLE         1   \n",
       "1444  536544     21774  DECORATIVE CATS BATHROOM BOTTLE         2   \n",
       "1445  536544     21786               POLKADOT RAIN HAT          4   \n",
       "1446  536544     21787            RAIN PONCHO RETROSPOT         2   \n",
       "\n",
       "           InvoiceDate  Price  Customer ID         Country  \n",
       "622   01-12-2010 11:52   0.00          NaN  United Kingdom  \n",
       "1443  01-12-2010 14:32   2.51          NaN  United Kingdom  \n",
       "1444  01-12-2010 14:32   2.51          NaN  United Kingdom  \n",
       "1445  01-12-2010 14:32   0.85          NaN  United Kingdom  \n",
       "1446  01-12-2010 14:32   1.66          NaN  United Kingdom  "
      ]
     },
     "execution_count": 218,
     "metadata": {},
     "output_type": "execute_result"
    }
   ],
   "source": [
    "missing.head()"
   ]
  },
  {
   "cell_type": "code",
   "execution_count": 219,
   "id": "989f805f",
   "metadata": {},
   "outputs": [],
   "source": [
    "total_revenue = (data['Quantity'] * data['Price']).sum()"
   ]
  },
  {
   "cell_type": "code",
   "execution_count": 220,
   "id": "72c6f563",
   "metadata": {},
   "outputs": [
    {
     "data": {
      "text/plain": [
       "9747765.934"
      ]
     },
     "execution_count": 220,
     "metadata": {},
     "output_type": "execute_result"
    }
   ],
   "source": [
    "total_revenue"
   ]
  },
  {
   "cell_type": "code",
   "execution_count": 221,
   "id": "c8111c25",
   "metadata": {},
   "outputs": [],
   "source": [
    "#The revenue of the records where customerid was missing\n",
    "missing_revenue=(missing['Quantity'] * missing['Price']).sum()"
   ]
  },
  {
   "cell_type": "code",
   "execution_count": 222,
   "id": "e6d05850",
   "metadata": {},
   "outputs": [
    {
     "data": {
      "text/plain": [
       "1447682.1199999996"
      ]
     },
     "execution_count": 222,
     "metadata": {},
     "output_type": "execute_result"
    }
   ],
   "source": [
    "missing_revenue"
   ]
  },
  {
   "cell_type": "code",
   "execution_count": 223,
   "id": "2570a305",
   "metadata": {},
   "outputs": [
    {
     "data": {
      "text/plain": [
       "14.851424724413162"
      ]
     },
     "execution_count": 223,
     "metadata": {},
     "output_type": "execute_result"
    }
   ],
   "source": [
    "missing_revenue/total_revenue *100"
   ]
  },
  {
   "cell_type": "markdown",
   "id": "4019d04a",
   "metadata": {},
   "source": [
    "The missing revenue is ~15% of the total_revenue which is quite significant so we can not delete those records and now we will fill those with anonymous values"
   ]
  },
  {
   "cell_type": "code",
   "execution_count": 224,
   "id": "3d8fe9f5",
   "metadata": {},
   "outputs": [],
   "source": [
    "data.loc[data['Customer ID'].isna(), 'Customer ID'] = 'Anonymous'"
   ]
  },
  {
   "cell_type": "code",
   "execution_count": 225,
   "id": "ec6f1752",
   "metadata": {},
   "outputs": [
    {
     "data": {
      "text/html": [
       "<div>\n",
       "<style scoped>\n",
       "    .dataframe tbody tr th:only-of-type {\n",
       "        vertical-align: middle;\n",
       "    }\n",
       "\n",
       "    .dataframe tbody tr th {\n",
       "        vertical-align: top;\n",
       "    }\n",
       "\n",
       "    .dataframe thead th {\n",
       "        text-align: right;\n",
       "    }\n",
       "</style>\n",
       "<table border=\"1\" class=\"dataframe\">\n",
       "  <thead>\n",
       "    <tr style=\"text-align: right;\">\n",
       "      <th></th>\n",
       "      <th>Invoice</th>\n",
       "      <th>StockCode</th>\n",
       "      <th>Description</th>\n",
       "      <th>Quantity</th>\n",
       "      <th>InvoiceDate</th>\n",
       "      <th>Price</th>\n",
       "      <th>Customer ID</th>\n",
       "      <th>Country</th>\n",
       "    </tr>\n",
       "  </thead>\n",
       "  <tbody>\n",
       "  </tbody>\n",
       "</table>\n",
       "</div>"
      ],
      "text/plain": [
       "Empty DataFrame\n",
       "Columns: [Invoice, StockCode, Description, Quantity, InvoiceDate, Price, Customer ID, Country]\n",
       "Index: []"
      ]
     },
     "execution_count": 225,
     "metadata": {},
     "output_type": "execute_result"
    }
   ],
   "source": [
    "data[data['Customer ID'].isna()]"
   ]
  },
  {
   "cell_type": "code",
   "execution_count": 226,
   "id": "f8e8c08f",
   "metadata": {},
   "outputs": [],
   "source": [
    "data.drop_duplicates(inplace=True)"
   ]
  },
  {
   "cell_type": "code",
   "execution_count": 227,
   "id": "3749fd16",
   "metadata": {},
   "outputs": [],
   "source": [
    "data.dropna(subset=['InvoiceDate', 'Quantity', 'Price'], inplace=True)"
   ]
  },
  {
   "cell_type": "code",
   "execution_count": 228,
   "id": "ed9a7f77",
   "metadata": {},
   "outputs": [
    {
     "data": {
      "text/plain": [
       "Invoice           0\n",
       "StockCode         0\n",
       "Description    1454\n",
       "Quantity          0\n",
       "InvoiceDate       0\n",
       "Price             0\n",
       "Customer ID       0\n",
       "Country           0\n",
       "dtype: int64"
      ]
     },
     "execution_count": 228,
     "metadata": {},
     "output_type": "execute_result"
    }
   ],
   "source": [
    "data.isnull().sum()"
   ]
  },
  {
   "cell_type": "markdown",
   "id": "624d5fe2",
   "metadata": {},
   "source": [
    "We do not need to deal with description as it doesnt help in predicting CLV"
   ]
  },
  {
   "cell_type": "code",
   "execution_count": 229,
   "id": "92535b89",
   "metadata": {},
   "outputs": [],
   "source": [
    "data['InvoiceDate'] = pd.to_datetime(data['InvoiceDate'])\n",
    "data['Quantity'] = pd.to_numeric(data['Quantity'])\n",
    "data['Price'] = pd.to_numeric(data['Price'])"
   ]
  },
  {
   "cell_type": "code",
   "execution_count": 230,
   "id": "e942dfd3",
   "metadata": {},
   "outputs": [],
   "source": [
    "data['TotalRevenue'] = data['Quantity'] * data['Price']"
   ]
  },
  {
   "cell_type": "code",
   "execution_count": 231,
   "id": "e0e4b7ad",
   "metadata": {},
   "outputs": [],
   "source": [
    "data['InvoiceYear'] = data['InvoiceDate'].dt.year\n",
    "data['InvoiceMonth'] = data['InvoiceDate'].dt.month\n",
    "data['InvoiceDay'] = data['InvoiceDate'].dt.day"
   ]
  },
  {
   "cell_type": "code",
   "execution_count": 232,
   "id": "d6df3e1c",
   "metadata": {},
   "outputs": [
    {
     "data": {
      "text/html": [
       "<div>\n",
       "<style scoped>\n",
       "    .dataframe tbody tr th:only-of-type {\n",
       "        vertical-align: middle;\n",
       "    }\n",
       "\n",
       "    .dataframe tbody tr th {\n",
       "        vertical-align: top;\n",
       "    }\n",
       "\n",
       "    .dataframe thead th {\n",
       "        text-align: right;\n",
       "    }\n",
       "</style>\n",
       "<table border=\"1\" class=\"dataframe\">\n",
       "  <thead>\n",
       "    <tr style=\"text-align: right;\">\n",
       "      <th></th>\n",
       "      <th>Invoice</th>\n",
       "      <th>StockCode</th>\n",
       "      <th>Description</th>\n",
       "      <th>Quantity</th>\n",
       "      <th>InvoiceDate</th>\n",
       "      <th>Price</th>\n",
       "      <th>Customer ID</th>\n",
       "      <th>Country</th>\n",
       "      <th>TotalRevenue</th>\n",
       "      <th>InvoiceYear</th>\n",
       "      <th>InvoiceMonth</th>\n",
       "      <th>InvoiceDay</th>\n",
       "    </tr>\n",
       "  </thead>\n",
       "  <tbody>\n",
       "    <tr>\n",
       "      <th>0</th>\n",
       "      <td>536365</td>\n",
       "      <td>85123A</td>\n",
       "      <td>WHITE HANGING HEART T-LIGHT HOLDER</td>\n",
       "      <td>6</td>\n",
       "      <td>2010-01-12 08:26:00</td>\n",
       "      <td>2.55</td>\n",
       "      <td>17850.0</td>\n",
       "      <td>United Kingdom</td>\n",
       "      <td>15.30</td>\n",
       "      <td>2010</td>\n",
       "      <td>1</td>\n",
       "      <td>12</td>\n",
       "    </tr>\n",
       "    <tr>\n",
       "      <th>1</th>\n",
       "      <td>536365</td>\n",
       "      <td>71053</td>\n",
       "      <td>WHITE METAL LANTERN</td>\n",
       "      <td>6</td>\n",
       "      <td>2010-01-12 08:26:00</td>\n",
       "      <td>3.39</td>\n",
       "      <td>17850.0</td>\n",
       "      <td>United Kingdom</td>\n",
       "      <td>20.34</td>\n",
       "      <td>2010</td>\n",
       "      <td>1</td>\n",
       "      <td>12</td>\n",
       "    </tr>\n",
       "    <tr>\n",
       "      <th>2</th>\n",
       "      <td>536365</td>\n",
       "      <td>84406B</td>\n",
       "      <td>CREAM CUPID HEARTS COAT HANGER</td>\n",
       "      <td>8</td>\n",
       "      <td>2010-01-12 08:26:00</td>\n",
       "      <td>2.75</td>\n",
       "      <td>17850.0</td>\n",
       "      <td>United Kingdom</td>\n",
       "      <td>22.00</td>\n",
       "      <td>2010</td>\n",
       "      <td>1</td>\n",
       "      <td>12</td>\n",
       "    </tr>\n",
       "    <tr>\n",
       "      <th>3</th>\n",
       "      <td>536365</td>\n",
       "      <td>84029G</td>\n",
       "      <td>KNITTED UNION FLAG HOT WATER BOTTLE</td>\n",
       "      <td>6</td>\n",
       "      <td>2010-01-12 08:26:00</td>\n",
       "      <td>3.39</td>\n",
       "      <td>17850.0</td>\n",
       "      <td>United Kingdom</td>\n",
       "      <td>20.34</td>\n",
       "      <td>2010</td>\n",
       "      <td>1</td>\n",
       "      <td>12</td>\n",
       "    </tr>\n",
       "    <tr>\n",
       "      <th>4</th>\n",
       "      <td>536365</td>\n",
       "      <td>84029E</td>\n",
       "      <td>RED WOOLLY HOTTIE WHITE HEART.</td>\n",
       "      <td>6</td>\n",
       "      <td>2010-01-12 08:26:00</td>\n",
       "      <td>3.39</td>\n",
       "      <td>17850.0</td>\n",
       "      <td>United Kingdom</td>\n",
       "      <td>20.34</td>\n",
       "      <td>2010</td>\n",
       "      <td>1</td>\n",
       "      <td>12</td>\n",
       "    </tr>\n",
       "  </tbody>\n",
       "</table>\n",
       "</div>"
      ],
      "text/plain": [
       "  Invoice StockCode                          Description  Quantity  \\\n",
       "0  536365    85123A   WHITE HANGING HEART T-LIGHT HOLDER         6   \n",
       "1  536365     71053                  WHITE METAL LANTERN         6   \n",
       "2  536365    84406B       CREAM CUPID HEARTS COAT HANGER         8   \n",
       "3  536365    84029G  KNITTED UNION FLAG HOT WATER BOTTLE         6   \n",
       "4  536365    84029E       RED WOOLLY HOTTIE WHITE HEART.         6   \n",
       "\n",
       "          InvoiceDate  Price Customer ID         Country  TotalRevenue  \\\n",
       "0 2010-01-12 08:26:00   2.55     17850.0  United Kingdom         15.30   \n",
       "1 2010-01-12 08:26:00   3.39     17850.0  United Kingdom         20.34   \n",
       "2 2010-01-12 08:26:00   2.75     17850.0  United Kingdom         22.00   \n",
       "3 2010-01-12 08:26:00   3.39     17850.0  United Kingdom         20.34   \n",
       "4 2010-01-12 08:26:00   3.39     17850.0  United Kingdom         20.34   \n",
       "\n",
       "   InvoiceYear  InvoiceMonth  InvoiceDay  \n",
       "0         2010             1          12  \n",
       "1         2010             1          12  \n",
       "2         2010             1          12  \n",
       "3         2010             1          12  \n",
       "4         2010             1          12  "
      ]
     },
     "execution_count": 232,
     "metadata": {},
     "output_type": "execute_result"
    }
   ],
   "source": [
    "data.head()"
   ]
  },
  {
   "cell_type": "code",
   "execution_count": 233,
   "id": "28f97724",
   "metadata": {},
   "outputs": [],
   "source": [
    "customer_data = data.groupby('Customer ID').agg({\n",
    "    'Invoice': 'nunique',\n",
    "    'Quantity': 'sum',\n",
    "    'TotalRevenue': 'sum',\n",
    "    'InvoiceDate': ['min', 'max']\n",
    "}).reset_index()"
   ]
  },
  {
   "cell_type": "markdown",
   "id": "0f6ae829",
   "metadata": {},
   "source": [
    "This part groups the data by the Customer ID column. Each group corresponds to a unique customer.\n",
    "\n",
    "'Invoice': 'nunique' calculates the number of unique invoices for each customer. This gives the number of transactions made by each customer.\n",
    "\n",
    "'Quantity': 'sum' sums the Quantity column for each customer, resulting in the total quantity of items purchased by each customer.\n",
    "\n",
    "'TotalRevenue': 'sum' sums the TotalRevenue column for each customer, providing the total revenue generated by each customer.\n",
    "\n",
    "'InvoiceDate': ['min', 'max'] calculates the earliest (min) and latest (max) invoice dates for each customer, indicating the first and last purchase dates."
   ]
  },
  {
   "cell_type": "code",
   "execution_count": 234,
   "id": "e70b2f8c",
   "metadata": {},
   "outputs": [
    {
     "data": {
      "text/html": [
       "<div>\n",
       "<style scoped>\n",
       "    .dataframe tbody tr th:only-of-type {\n",
       "        vertical-align: middle;\n",
       "    }\n",
       "\n",
       "    .dataframe tbody tr th {\n",
       "        vertical-align: top;\n",
       "    }\n",
       "\n",
       "    .dataframe thead tr th {\n",
       "        text-align: left;\n",
       "    }\n",
       "</style>\n",
       "<table border=\"1\" class=\"dataframe\">\n",
       "  <thead>\n",
       "    <tr>\n",
       "      <th></th>\n",
       "      <th>Customer ID</th>\n",
       "      <th>Invoice</th>\n",
       "      <th>Quantity</th>\n",
       "      <th>TotalRevenue</th>\n",
       "      <th colspan=\"2\" halign=\"left\">InvoiceDate</th>\n",
       "    </tr>\n",
       "    <tr>\n",
       "      <th></th>\n",
       "      <th></th>\n",
       "      <th>nunique</th>\n",
       "      <th>sum</th>\n",
       "      <th>sum</th>\n",
       "      <th>min</th>\n",
       "      <th>max</th>\n",
       "    </tr>\n",
       "  </thead>\n",
       "  <tbody>\n",
       "    <tr>\n",
       "      <th>4368</th>\n",
       "      <td>18281.0</td>\n",
       "      <td>1</td>\n",
       "      <td>54</td>\n",
       "      <td>80.82</td>\n",
       "      <td>2011-12-06 10:53:00</td>\n",
       "      <td>2011-12-06 10:53:00</td>\n",
       "    </tr>\n",
       "    <tr>\n",
       "      <th>4369</th>\n",
       "      <td>18282.0</td>\n",
       "      <td>3</td>\n",
       "      <td>98</td>\n",
       "      <td>176.60</td>\n",
       "      <td>2011-02-12 11:43:00</td>\n",
       "      <td>2011-09-08 15:10:00</td>\n",
       "    </tr>\n",
       "    <tr>\n",
       "      <th>4370</th>\n",
       "      <td>18283.0</td>\n",
       "      <td>16</td>\n",
       "      <td>1357</td>\n",
       "      <td>2045.53</td>\n",
       "      <td>2011-01-23 14:58:00</td>\n",
       "      <td>2011-11-30 12:59:00</td>\n",
       "    </tr>\n",
       "    <tr>\n",
       "      <th>4371</th>\n",
       "      <td>18287.0</td>\n",
       "      <td>3</td>\n",
       "      <td>1586</td>\n",
       "      <td>1837.28</td>\n",
       "      <td>2011-05-22 10:39:00</td>\n",
       "      <td>2011-12-10 10:23:00</td>\n",
       "    </tr>\n",
       "    <tr>\n",
       "      <th>4372</th>\n",
       "      <td>Anonymous</td>\n",
       "      <td>3710</td>\n",
       "      <td>269651</td>\n",
       "      <td>1447487.53</td>\n",
       "      <td>2010-01-12 11:52:00</td>\n",
       "      <td>2011-12-10 16:42:00</td>\n",
       "    </tr>\n",
       "  </tbody>\n",
       "</table>\n",
       "</div>"
      ],
      "text/plain": [
       "     Customer ID Invoice Quantity TotalRevenue         InvoiceDate  \\\n",
       "                 nunique      sum          sum                 min   \n",
       "4368     18281.0       1       54        80.82 2011-12-06 10:53:00   \n",
       "4369     18282.0       3       98       176.60 2011-02-12 11:43:00   \n",
       "4370     18283.0      16     1357      2045.53 2011-01-23 14:58:00   \n",
       "4371     18287.0       3     1586      1837.28 2011-05-22 10:39:00   \n",
       "4372   Anonymous    3710   269651   1447487.53 2010-01-12 11:52:00   \n",
       "\n",
       "                          \n",
       "                     max  \n",
       "4368 2011-12-06 10:53:00  \n",
       "4369 2011-09-08 15:10:00  \n",
       "4370 2011-11-30 12:59:00  \n",
       "4371 2011-12-10 10:23:00  \n",
       "4372 2011-12-10 16:42:00  "
      ]
     },
     "execution_count": 234,
     "metadata": {},
     "output_type": "execute_result"
    }
   ],
   "source": [
    "customer_data.tail()"
   ]
  },
  {
   "cell_type": "code",
   "execution_count": 235,
   "id": "a467c1eb",
   "metadata": {},
   "outputs": [
    {
     "data": {
      "text/html": [
       "<div>\n",
       "<style scoped>\n",
       "    .dataframe tbody tr th:only-of-type {\n",
       "        vertical-align: middle;\n",
       "    }\n",
       "\n",
       "    .dataframe tbody tr th {\n",
       "        vertical-align: top;\n",
       "    }\n",
       "\n",
       "    .dataframe thead tr th {\n",
       "        text-align: left;\n",
       "    }\n",
       "</style>\n",
       "<table border=\"1\" class=\"dataframe\">\n",
       "  <thead>\n",
       "    <tr>\n",
       "      <th></th>\n",
       "      <th>index</th>\n",
       "      <th>Customer ID</th>\n",
       "      <th>Invoice</th>\n",
       "      <th>Quantity</th>\n",
       "      <th>TotalRevenue</th>\n",
       "      <th colspan=\"2\" halign=\"left\">InvoiceDate</th>\n",
       "    </tr>\n",
       "    <tr>\n",
       "      <th></th>\n",
       "      <th></th>\n",
       "      <th></th>\n",
       "      <th>nunique</th>\n",
       "      <th>sum</th>\n",
       "      <th>sum</th>\n",
       "      <th>min</th>\n",
       "      <th>max</th>\n",
       "    </tr>\n",
       "  </thead>\n",
       "  <tbody>\n",
       "    <tr>\n",
       "      <th>0</th>\n",
       "      <td>0</td>\n",
       "      <td>12346.0</td>\n",
       "      <td>2</td>\n",
       "      <td>0</td>\n",
       "      <td>0.00</td>\n",
       "      <td>2011-01-18 10:01:00</td>\n",
       "      <td>2011-01-18 10:17:00</td>\n",
       "    </tr>\n",
       "    <tr>\n",
       "      <th>1</th>\n",
       "      <td>1</td>\n",
       "      <td>12347.0</td>\n",
       "      <td>7</td>\n",
       "      <td>2458</td>\n",
       "      <td>4310.00</td>\n",
       "      <td>2010-07-12 14:57:00</td>\n",
       "      <td>2011-10-31 12:25:00</td>\n",
       "    </tr>\n",
       "    <tr>\n",
       "      <th>2</th>\n",
       "      <td>2</td>\n",
       "      <td>12348.0</td>\n",
       "      <td>4</td>\n",
       "      <td>2341</td>\n",
       "      <td>1797.24</td>\n",
       "      <td>2010-12-16 19:09:00</td>\n",
       "      <td>2011-09-25 13:13:00</td>\n",
       "    </tr>\n",
       "    <tr>\n",
       "      <th>3</th>\n",
       "      <td>3</td>\n",
       "      <td>12349.0</td>\n",
       "      <td>1</td>\n",
       "      <td>631</td>\n",
       "      <td>1757.55</td>\n",
       "      <td>2011-11-21 09:51:00</td>\n",
       "      <td>2011-11-21 09:51:00</td>\n",
       "    </tr>\n",
       "    <tr>\n",
       "      <th>4</th>\n",
       "      <td>4</td>\n",
       "      <td>12350.0</td>\n",
       "      <td>1</td>\n",
       "      <td>197</td>\n",
       "      <td>334.40</td>\n",
       "      <td>2011-02-02 16:01:00</td>\n",
       "      <td>2011-02-02 16:01:00</td>\n",
       "    </tr>\n",
       "    <tr>\n",
       "      <th>...</th>\n",
       "      <td>...</td>\n",
       "      <td>...</td>\n",
       "      <td>...</td>\n",
       "      <td>...</td>\n",
       "      <td>...</td>\n",
       "      <td>...</td>\n",
       "      <td>...</td>\n",
       "    </tr>\n",
       "    <tr>\n",
       "      <th>4368</th>\n",
       "      <td>4368</td>\n",
       "      <td>18281.0</td>\n",
       "      <td>1</td>\n",
       "      <td>54</td>\n",
       "      <td>80.82</td>\n",
       "      <td>2011-12-06 10:53:00</td>\n",
       "      <td>2011-12-06 10:53:00</td>\n",
       "    </tr>\n",
       "    <tr>\n",
       "      <th>4369</th>\n",
       "      <td>4369</td>\n",
       "      <td>18282.0</td>\n",
       "      <td>3</td>\n",
       "      <td>98</td>\n",
       "      <td>176.60</td>\n",
       "      <td>2011-02-12 11:43:00</td>\n",
       "      <td>2011-09-08 15:10:00</td>\n",
       "    </tr>\n",
       "    <tr>\n",
       "      <th>4370</th>\n",
       "      <td>4370</td>\n",
       "      <td>18283.0</td>\n",
       "      <td>16</td>\n",
       "      <td>1357</td>\n",
       "      <td>2045.53</td>\n",
       "      <td>2011-01-23 14:58:00</td>\n",
       "      <td>2011-11-30 12:59:00</td>\n",
       "    </tr>\n",
       "    <tr>\n",
       "      <th>4371</th>\n",
       "      <td>4371</td>\n",
       "      <td>18287.0</td>\n",
       "      <td>3</td>\n",
       "      <td>1586</td>\n",
       "      <td>1837.28</td>\n",
       "      <td>2011-05-22 10:39:00</td>\n",
       "      <td>2011-12-10 10:23:00</td>\n",
       "    </tr>\n",
       "    <tr>\n",
       "      <th>4372</th>\n",
       "      <td>4372</td>\n",
       "      <td>Anonymous</td>\n",
       "      <td>3710</td>\n",
       "      <td>269651</td>\n",
       "      <td>1447487.53</td>\n",
       "      <td>2010-01-12 11:52:00</td>\n",
       "      <td>2011-12-10 16:42:00</td>\n",
       "    </tr>\n",
       "  </tbody>\n",
       "</table>\n",
       "<p>4373 rows × 7 columns</p>\n",
       "</div>"
      ],
      "text/plain": [
       "     index Customer ID Invoice Quantity TotalRevenue         InvoiceDate  \\\n",
       "                       nunique      sum          sum                 min   \n",
       "0        0     12346.0       2        0         0.00 2011-01-18 10:01:00   \n",
       "1        1     12347.0       7     2458      4310.00 2010-07-12 14:57:00   \n",
       "2        2     12348.0       4     2341      1797.24 2010-12-16 19:09:00   \n",
       "3        3     12349.0       1      631      1757.55 2011-11-21 09:51:00   \n",
       "4        4     12350.0       1      197       334.40 2011-02-02 16:01:00   \n",
       "...    ...         ...     ...      ...          ...                 ...   \n",
       "4368  4368     18281.0       1       54        80.82 2011-12-06 10:53:00   \n",
       "4369  4369     18282.0       3       98       176.60 2011-02-12 11:43:00   \n",
       "4370  4370     18283.0      16     1357      2045.53 2011-01-23 14:58:00   \n",
       "4371  4371     18287.0       3     1586      1837.28 2011-05-22 10:39:00   \n",
       "4372  4372   Anonymous    3710   269651   1447487.53 2010-01-12 11:52:00   \n",
       "\n",
       "                          \n",
       "                     max  \n",
       "0    2011-01-18 10:17:00  \n",
       "1    2011-10-31 12:25:00  \n",
       "2    2011-09-25 13:13:00  \n",
       "3    2011-11-21 09:51:00  \n",
       "4    2011-02-02 16:01:00  \n",
       "...                  ...  \n",
       "4368 2011-12-06 10:53:00  \n",
       "4369 2011-09-08 15:10:00  \n",
       "4370 2011-11-30 12:59:00  \n",
       "4371 2011-12-10 10:23:00  \n",
       "4372 2011-12-10 16:42:00  \n",
       "\n",
       "[4373 rows x 7 columns]"
      ]
     },
     "execution_count": 235,
     "metadata": {},
     "output_type": "execute_result"
    }
   ],
   "source": [
    "customer_data.reset_index()"
   ]
  },
  {
   "cell_type": "code",
   "execution_count": 236,
   "id": "be44df2e",
   "metadata": {},
   "outputs": [],
   "source": [
    "customer_data.columns = ['CustomerID', 'NumTransactions', 'TotalQuantity', 'TotalRevenue', 'FirstPurchaseDate', 'LastPurchaseDate']"
   ]
  },
  {
   "cell_type": "code",
   "execution_count": 237,
   "id": "e3ebc14c",
   "metadata": {},
   "outputs": [],
   "source": [
    "import matplotlib.pyplot as plt\n",
    "import seaborn as sns"
   ]
  },
  {
   "cell_type": "code",
   "execution_count": 238,
   "id": "58b6b45a",
   "metadata": {},
   "outputs": [],
   "source": [
    "customer_data['AOV'] = customer_data['TotalRevenue'] / customer_data['NumTransactions']\n",
    "customer_data['CustomerAge'] = (customer_data['LastPurchaseDate'] - customer_data['FirstPurchaseDate']).dt.days\n",
    "customer_data['PurchaseFrequency'] = customer_data['NumTransactions'] / customer_data['CustomerAge']\n"
   ]
  },
  {
   "cell_type": "code",
   "execution_count": 239,
   "id": "34474dd1",
   "metadata": {},
   "outputs": [
    {
     "data": {
      "text/html": [
       "<div>\n",
       "<style scoped>\n",
       "    .dataframe tbody tr th:only-of-type {\n",
       "        vertical-align: middle;\n",
       "    }\n",
       "\n",
       "    .dataframe tbody tr th {\n",
       "        vertical-align: top;\n",
       "    }\n",
       "\n",
       "    .dataframe thead th {\n",
       "        text-align: right;\n",
       "    }\n",
       "</style>\n",
       "<table border=\"1\" class=\"dataframe\">\n",
       "  <thead>\n",
       "    <tr style=\"text-align: right;\">\n",
       "      <th></th>\n",
       "      <th>CustomerID</th>\n",
       "      <th>NumTransactions</th>\n",
       "      <th>TotalQuantity</th>\n",
       "      <th>TotalRevenue</th>\n",
       "      <th>FirstPurchaseDate</th>\n",
       "      <th>LastPurchaseDate</th>\n",
       "      <th>AOV</th>\n",
       "      <th>CustomerAge</th>\n",
       "      <th>PurchaseFrequency</th>\n",
       "    </tr>\n",
       "  </thead>\n",
       "  <tbody>\n",
       "    <tr>\n",
       "      <th>0</th>\n",
       "      <td>12346.0</td>\n",
       "      <td>2</td>\n",
       "      <td>0</td>\n",
       "      <td>0.00</td>\n",
       "      <td>2011-01-18 10:01:00</td>\n",
       "      <td>2011-01-18 10:17:00</td>\n",
       "      <td>0.000000</td>\n",
       "      <td>0</td>\n",
       "      <td>inf</td>\n",
       "    </tr>\n",
       "    <tr>\n",
       "      <th>1</th>\n",
       "      <td>12347.0</td>\n",
       "      <td>7</td>\n",
       "      <td>2458</td>\n",
       "      <td>4310.00</td>\n",
       "      <td>2010-07-12 14:57:00</td>\n",
       "      <td>2011-10-31 12:25:00</td>\n",
       "      <td>615.714286</td>\n",
       "      <td>475</td>\n",
       "      <td>0.014737</td>\n",
       "    </tr>\n",
       "    <tr>\n",
       "      <th>2</th>\n",
       "      <td>12348.0</td>\n",
       "      <td>4</td>\n",
       "      <td>2341</td>\n",
       "      <td>1797.24</td>\n",
       "      <td>2010-12-16 19:09:00</td>\n",
       "      <td>2011-09-25 13:13:00</td>\n",
       "      <td>449.310000</td>\n",
       "      <td>282</td>\n",
       "      <td>0.014184</td>\n",
       "    </tr>\n",
       "    <tr>\n",
       "      <th>3</th>\n",
       "      <td>12349.0</td>\n",
       "      <td>1</td>\n",
       "      <td>631</td>\n",
       "      <td>1757.55</td>\n",
       "      <td>2011-11-21 09:51:00</td>\n",
       "      <td>2011-11-21 09:51:00</td>\n",
       "      <td>1757.550000</td>\n",
       "      <td>0</td>\n",
       "      <td>inf</td>\n",
       "    </tr>\n",
       "    <tr>\n",
       "      <th>4</th>\n",
       "      <td>12350.0</td>\n",
       "      <td>1</td>\n",
       "      <td>197</td>\n",
       "      <td>334.40</td>\n",
       "      <td>2011-02-02 16:01:00</td>\n",
       "      <td>2011-02-02 16:01:00</td>\n",
       "      <td>334.400000</td>\n",
       "      <td>0</td>\n",
       "      <td>inf</td>\n",
       "    </tr>\n",
       "    <tr>\n",
       "      <th>...</th>\n",
       "      <td>...</td>\n",
       "      <td>...</td>\n",
       "      <td>...</td>\n",
       "      <td>...</td>\n",
       "      <td>...</td>\n",
       "      <td>...</td>\n",
       "      <td>...</td>\n",
       "      <td>...</td>\n",
       "      <td>...</td>\n",
       "    </tr>\n",
       "    <tr>\n",
       "      <th>4368</th>\n",
       "      <td>18281.0</td>\n",
       "      <td>1</td>\n",
       "      <td>54</td>\n",
       "      <td>80.82</td>\n",
       "      <td>2011-12-06 10:53:00</td>\n",
       "      <td>2011-12-06 10:53:00</td>\n",
       "      <td>80.820000</td>\n",
       "      <td>0</td>\n",
       "      <td>inf</td>\n",
       "    </tr>\n",
       "    <tr>\n",
       "      <th>4369</th>\n",
       "      <td>18282.0</td>\n",
       "      <td>3</td>\n",
       "      <td>98</td>\n",
       "      <td>176.60</td>\n",
       "      <td>2011-02-12 11:43:00</td>\n",
       "      <td>2011-09-08 15:10:00</td>\n",
       "      <td>58.866667</td>\n",
       "      <td>208</td>\n",
       "      <td>0.014423</td>\n",
       "    </tr>\n",
       "    <tr>\n",
       "      <th>4370</th>\n",
       "      <td>18283.0</td>\n",
       "      <td>16</td>\n",
       "      <td>1357</td>\n",
       "      <td>2045.53</td>\n",
       "      <td>2011-01-23 14:58:00</td>\n",
       "      <td>2011-11-30 12:59:00</td>\n",
       "      <td>127.845625</td>\n",
       "      <td>310</td>\n",
       "      <td>0.051613</td>\n",
       "    </tr>\n",
       "    <tr>\n",
       "      <th>4371</th>\n",
       "      <td>18287.0</td>\n",
       "      <td>3</td>\n",
       "      <td>1586</td>\n",
       "      <td>1837.28</td>\n",
       "      <td>2011-05-22 10:39:00</td>\n",
       "      <td>2011-12-10 10:23:00</td>\n",
       "      <td>612.426667</td>\n",
       "      <td>201</td>\n",
       "      <td>0.014925</td>\n",
       "    </tr>\n",
       "    <tr>\n",
       "      <th>4372</th>\n",
       "      <td>Anonymous</td>\n",
       "      <td>3710</td>\n",
       "      <td>269651</td>\n",
       "      <td>1447487.53</td>\n",
       "      <td>2010-01-12 11:52:00</td>\n",
       "      <td>2011-12-10 16:42:00</td>\n",
       "      <td>390.158364</td>\n",
       "      <td>697</td>\n",
       "      <td>5.322812</td>\n",
       "    </tr>\n",
       "  </tbody>\n",
       "</table>\n",
       "<p>4373 rows × 9 columns</p>\n",
       "</div>"
      ],
      "text/plain": [
       "     CustomerID  NumTransactions  TotalQuantity  TotalRevenue  \\\n",
       "0       12346.0                2              0          0.00   \n",
       "1       12347.0                7           2458       4310.00   \n",
       "2       12348.0                4           2341       1797.24   \n",
       "3       12349.0                1            631       1757.55   \n",
       "4       12350.0                1            197        334.40   \n",
       "...         ...              ...            ...           ...   \n",
       "4368    18281.0                1             54         80.82   \n",
       "4369    18282.0                3             98        176.60   \n",
       "4370    18283.0               16           1357       2045.53   \n",
       "4371    18287.0                3           1586       1837.28   \n",
       "4372  Anonymous             3710         269651    1447487.53   \n",
       "\n",
       "       FirstPurchaseDate    LastPurchaseDate          AOV  CustomerAge  \\\n",
       "0    2011-01-18 10:01:00 2011-01-18 10:17:00     0.000000            0   \n",
       "1    2010-07-12 14:57:00 2011-10-31 12:25:00   615.714286          475   \n",
       "2    2010-12-16 19:09:00 2011-09-25 13:13:00   449.310000          282   \n",
       "3    2011-11-21 09:51:00 2011-11-21 09:51:00  1757.550000            0   \n",
       "4    2011-02-02 16:01:00 2011-02-02 16:01:00   334.400000            0   \n",
       "...                  ...                 ...          ...          ...   \n",
       "4368 2011-12-06 10:53:00 2011-12-06 10:53:00    80.820000            0   \n",
       "4369 2011-02-12 11:43:00 2011-09-08 15:10:00    58.866667          208   \n",
       "4370 2011-01-23 14:58:00 2011-11-30 12:59:00   127.845625          310   \n",
       "4371 2011-05-22 10:39:00 2011-12-10 10:23:00   612.426667          201   \n",
       "4372 2010-01-12 11:52:00 2011-12-10 16:42:00   390.158364          697   \n",
       "\n",
       "      PurchaseFrequency  \n",
       "0                   inf  \n",
       "1              0.014737  \n",
       "2              0.014184  \n",
       "3                   inf  \n",
       "4                   inf  \n",
       "...                 ...  \n",
       "4368                inf  \n",
       "4369           0.014423  \n",
       "4370           0.051613  \n",
       "4371           0.014925  \n",
       "4372           5.322812  \n",
       "\n",
       "[4373 rows x 9 columns]"
      ]
     },
     "execution_count": 239,
     "metadata": {},
     "output_type": "execute_result"
    }
   ],
   "source": [
    "customer_data"
   ]
  },
  {
   "cell_type": "code",
   "execution_count": 240,
   "id": "b9edce60",
   "metadata": {},
   "outputs": [],
   "source": [
    "#There are cases where CustomerAge is zero. We will replace them by 1 to avoid PurchaseFreq to be inf"
   ]
  },
  {
   "cell_type": "code",
   "execution_count": 241,
   "id": "7dddc3b1",
   "metadata": {},
   "outputs": [],
   "source": [
    "customer_data['CustomerAge'] = customer_data['CustomerAge'].replace(0, 1)"
   ]
  },
  {
   "cell_type": "code",
   "execution_count": 242,
   "id": "5af3c249",
   "metadata": {},
   "outputs": [],
   "source": [
    "customer_data['PurchaseFrequency'] = customer_data['NumTransactions'] / customer_data['CustomerAge']"
   ]
  },
  {
   "cell_type": "code",
   "execution_count": 243,
   "id": "d70d480b",
   "metadata": {},
   "outputs": [
    {
     "data": {
      "text/html": [
       "<div>\n",
       "<style scoped>\n",
       "    .dataframe tbody tr th:only-of-type {\n",
       "        vertical-align: middle;\n",
       "    }\n",
       "\n",
       "    .dataframe tbody tr th {\n",
       "        vertical-align: top;\n",
       "    }\n",
       "\n",
       "    .dataframe thead th {\n",
       "        text-align: right;\n",
       "    }\n",
       "</style>\n",
       "<table border=\"1\" class=\"dataframe\">\n",
       "  <thead>\n",
       "    <tr style=\"text-align: right;\">\n",
       "      <th></th>\n",
       "      <th>CustomerID</th>\n",
       "      <th>NumTransactions</th>\n",
       "      <th>TotalQuantity</th>\n",
       "      <th>TotalRevenue</th>\n",
       "      <th>FirstPurchaseDate</th>\n",
       "      <th>LastPurchaseDate</th>\n",
       "      <th>AOV</th>\n",
       "      <th>CustomerAge</th>\n",
       "      <th>PurchaseFrequency</th>\n",
       "    </tr>\n",
       "  </thead>\n",
       "  <tbody>\n",
       "    <tr>\n",
       "      <th>0</th>\n",
       "      <td>12346.0</td>\n",
       "      <td>2</td>\n",
       "      <td>0</td>\n",
       "      <td>0.00</td>\n",
       "      <td>2011-01-18 10:01:00</td>\n",
       "      <td>2011-01-18 10:17:00</td>\n",
       "      <td>0.000000</td>\n",
       "      <td>1</td>\n",
       "      <td>2.000000</td>\n",
       "    </tr>\n",
       "    <tr>\n",
       "      <th>1</th>\n",
       "      <td>12347.0</td>\n",
       "      <td>7</td>\n",
       "      <td>2458</td>\n",
       "      <td>4310.00</td>\n",
       "      <td>2010-07-12 14:57:00</td>\n",
       "      <td>2011-10-31 12:25:00</td>\n",
       "      <td>615.714286</td>\n",
       "      <td>475</td>\n",
       "      <td>0.014737</td>\n",
       "    </tr>\n",
       "    <tr>\n",
       "      <th>2</th>\n",
       "      <td>12348.0</td>\n",
       "      <td>4</td>\n",
       "      <td>2341</td>\n",
       "      <td>1797.24</td>\n",
       "      <td>2010-12-16 19:09:00</td>\n",
       "      <td>2011-09-25 13:13:00</td>\n",
       "      <td>449.310000</td>\n",
       "      <td>282</td>\n",
       "      <td>0.014184</td>\n",
       "    </tr>\n",
       "    <tr>\n",
       "      <th>3</th>\n",
       "      <td>12349.0</td>\n",
       "      <td>1</td>\n",
       "      <td>631</td>\n",
       "      <td>1757.55</td>\n",
       "      <td>2011-11-21 09:51:00</td>\n",
       "      <td>2011-11-21 09:51:00</td>\n",
       "      <td>1757.550000</td>\n",
       "      <td>1</td>\n",
       "      <td>1.000000</td>\n",
       "    </tr>\n",
       "    <tr>\n",
       "      <th>4</th>\n",
       "      <td>12350.0</td>\n",
       "      <td>1</td>\n",
       "      <td>197</td>\n",
       "      <td>334.40</td>\n",
       "      <td>2011-02-02 16:01:00</td>\n",
       "      <td>2011-02-02 16:01:00</td>\n",
       "      <td>334.400000</td>\n",
       "      <td>1</td>\n",
       "      <td>1.000000</td>\n",
       "    </tr>\n",
       "    <tr>\n",
       "      <th>...</th>\n",
       "      <td>...</td>\n",
       "      <td>...</td>\n",
       "      <td>...</td>\n",
       "      <td>...</td>\n",
       "      <td>...</td>\n",
       "      <td>...</td>\n",
       "      <td>...</td>\n",
       "      <td>...</td>\n",
       "      <td>...</td>\n",
       "    </tr>\n",
       "    <tr>\n",
       "      <th>4368</th>\n",
       "      <td>18281.0</td>\n",
       "      <td>1</td>\n",
       "      <td>54</td>\n",
       "      <td>80.82</td>\n",
       "      <td>2011-12-06 10:53:00</td>\n",
       "      <td>2011-12-06 10:53:00</td>\n",
       "      <td>80.820000</td>\n",
       "      <td>1</td>\n",
       "      <td>1.000000</td>\n",
       "    </tr>\n",
       "    <tr>\n",
       "      <th>4369</th>\n",
       "      <td>18282.0</td>\n",
       "      <td>3</td>\n",
       "      <td>98</td>\n",
       "      <td>176.60</td>\n",
       "      <td>2011-02-12 11:43:00</td>\n",
       "      <td>2011-09-08 15:10:00</td>\n",
       "      <td>58.866667</td>\n",
       "      <td>208</td>\n",
       "      <td>0.014423</td>\n",
       "    </tr>\n",
       "    <tr>\n",
       "      <th>4370</th>\n",
       "      <td>18283.0</td>\n",
       "      <td>16</td>\n",
       "      <td>1357</td>\n",
       "      <td>2045.53</td>\n",
       "      <td>2011-01-23 14:58:00</td>\n",
       "      <td>2011-11-30 12:59:00</td>\n",
       "      <td>127.845625</td>\n",
       "      <td>310</td>\n",
       "      <td>0.051613</td>\n",
       "    </tr>\n",
       "    <tr>\n",
       "      <th>4371</th>\n",
       "      <td>18287.0</td>\n",
       "      <td>3</td>\n",
       "      <td>1586</td>\n",
       "      <td>1837.28</td>\n",
       "      <td>2011-05-22 10:39:00</td>\n",
       "      <td>2011-12-10 10:23:00</td>\n",
       "      <td>612.426667</td>\n",
       "      <td>201</td>\n",
       "      <td>0.014925</td>\n",
       "    </tr>\n",
       "    <tr>\n",
       "      <th>4372</th>\n",
       "      <td>Anonymous</td>\n",
       "      <td>3710</td>\n",
       "      <td>269651</td>\n",
       "      <td>1447487.53</td>\n",
       "      <td>2010-01-12 11:52:00</td>\n",
       "      <td>2011-12-10 16:42:00</td>\n",
       "      <td>390.158364</td>\n",
       "      <td>697</td>\n",
       "      <td>5.322812</td>\n",
       "    </tr>\n",
       "  </tbody>\n",
       "</table>\n",
       "<p>4373 rows × 9 columns</p>\n",
       "</div>"
      ],
      "text/plain": [
       "     CustomerID  NumTransactions  TotalQuantity  TotalRevenue  \\\n",
       "0       12346.0                2              0          0.00   \n",
       "1       12347.0                7           2458       4310.00   \n",
       "2       12348.0                4           2341       1797.24   \n",
       "3       12349.0                1            631       1757.55   \n",
       "4       12350.0                1            197        334.40   \n",
       "...         ...              ...            ...           ...   \n",
       "4368    18281.0                1             54         80.82   \n",
       "4369    18282.0                3             98        176.60   \n",
       "4370    18283.0               16           1357       2045.53   \n",
       "4371    18287.0                3           1586       1837.28   \n",
       "4372  Anonymous             3710         269651    1447487.53   \n",
       "\n",
       "       FirstPurchaseDate    LastPurchaseDate          AOV  CustomerAge  \\\n",
       "0    2011-01-18 10:01:00 2011-01-18 10:17:00     0.000000            1   \n",
       "1    2010-07-12 14:57:00 2011-10-31 12:25:00   615.714286          475   \n",
       "2    2010-12-16 19:09:00 2011-09-25 13:13:00   449.310000          282   \n",
       "3    2011-11-21 09:51:00 2011-11-21 09:51:00  1757.550000            1   \n",
       "4    2011-02-02 16:01:00 2011-02-02 16:01:00   334.400000            1   \n",
       "...                  ...                 ...          ...          ...   \n",
       "4368 2011-12-06 10:53:00 2011-12-06 10:53:00    80.820000            1   \n",
       "4369 2011-02-12 11:43:00 2011-09-08 15:10:00    58.866667          208   \n",
       "4370 2011-01-23 14:58:00 2011-11-30 12:59:00   127.845625          310   \n",
       "4371 2011-05-22 10:39:00 2011-12-10 10:23:00   612.426667          201   \n",
       "4372 2010-01-12 11:52:00 2011-12-10 16:42:00   390.158364          697   \n",
       "\n",
       "      PurchaseFrequency  \n",
       "0              2.000000  \n",
       "1              0.014737  \n",
       "2              0.014184  \n",
       "3              1.000000  \n",
       "4              1.000000  \n",
       "...                 ...  \n",
       "4368           1.000000  \n",
       "4369           0.014423  \n",
       "4370           0.051613  \n",
       "4371           0.014925  \n",
       "4372           5.322812  \n",
       "\n",
       "[4373 rows x 9 columns]"
      ]
     },
     "execution_count": 243,
     "metadata": {},
     "output_type": "execute_result"
    }
   ],
   "source": [
    "customer_data"
   ]
  },
  {
   "cell_type": "code",
   "execution_count": 244,
   "id": "4df75478",
   "metadata": {},
   "outputs": [],
   "source": [
    "sns.set(style=\"whitegrid\")"
   ]
  },
  {
   "cell_type": "code",
   "execution_count": 245,
   "id": "4a98cfc6",
   "metadata": {},
   "outputs": [
    {
     "data": {
      "image/png": "[encoded data removed]",
      "text/plain": [
       "<Figure size 1000x600 with 1 Axes>"
      ]
     },
     "metadata": {},
     "output_type": "display_data"
    }
   ],
   "source": [
    "# 1. Distribution of Average Order Value (AOV)\n",
    "plt.figure(figsize=(10, 6))\n",
    "sns.histplot(customer_data['AOV'], kde=True, bins=30, color='green')\n",
    "plt.title('Distribution of Average Order Value (AOV)')\n",
    "plt.xlabel('Average Order Value (AOV)')\n",
    "plt.ylabel('Frequency')\n",
    "plt.show()"
   ]
  },
  {
   "cell_type": "code",
   "execution_count": 246,
   "id": "8432d8a3",
   "metadata": {},
   "outputs": [
    {
     "data": {
      "image/png": "[encoded data removed]",
      "text/plain": [
       "<Figure size 1000x600 with 1 Axes>"
      ]
     },
     "metadata": {},
     "output_type": "display_data"
    }
   ],
   "source": [
    "# 2. Customer Age Distribution\n",
    "plt.figure(figsize=(10, 6))\n",
    "sns.histplot(customer_data['CustomerAge'], kde=True, bins=30, color='purple')\n",
    "plt.title('Customer Age Distribution')\n",
    "plt.xlabel('Customer Age (Days)')\n",
    "plt.ylabel('Frequency')\n",
    "plt.show()"
   ]
  },
  {
   "cell_type": "code",
   "execution_count": 247,
   "id": "0c1f0e8d",
   "metadata": {},
   "outputs": [
    {
     "data": {
      "image/png": "[encoded data removed]",
      "text/plain": [
       "<Figure size 1000x600 with 1 Axes>"
      ]
     },
     "metadata": {},
     "output_type": "display_data"
    }
   ],
   "source": [
    "# 3. Relationship between Customer Age and Total Revenue\n",
    "plt.figure(figsize=(10, 6))\n",
    "sns.scatterplot(data=customer_data, x='CustomerAge', y='TotalRevenue', hue='TotalRevenue', palette='viridis')\n",
    "plt.title('Customer Age vs. Total Revenue')\n",
    "plt.xlabel('Customer Age (Days)')\n",
    "plt.ylabel('Total Revenue')\n",
    "plt.show()"
   ]
  },
  {
   "cell_type": "code",
   "execution_count": 248,
   "id": "ff47a048",
   "metadata": {},
   "outputs": [
    {
     "data": {
      "image/png": "[encoded data removed]",
      "text/plain": [
       "<Figure size 1000x600 with 2 Axes>"
      ]
     },
     "metadata": {},
     "output_type": "display_data"
    }
   ],
   "source": [
    "# 4. Correlation Heatmap\n",
    "correlation_matrix = customer_data[['NumTransactions', 'TotalQuantity', 'TotalRevenue', 'AOV', 'CustomerAge']].corr()\n",
    "plt.figure(figsize=(10, 6))\n",
    "sns.heatmap(correlation_matrix, annot=True, cmap='coolwarm', vmin=-1, vmax=1)\n",
    "plt.title('Correlation Heatmap')\n",
    "plt.show()"
   ]
  },
  {
   "cell_type": "markdown",
   "id": "ce7e3624",
   "metadata": {},
   "source": [
    "# CLV=AOV×Purchase Frequency×Customer Lifespan"
   ]
  },
  {
   "cell_type": "code",
   "execution_count": 249,
   "id": "0b8a4373",
   "metadata": {},
   "outputs": [],
   "source": [
    "customer_data['Lifespan'] = 365  # Assume 1 year\n",
    "\n",
    "customer_data['CLV'] = customer_data['AOV'] * customer_data['PurchaseFrequency'] * customer_data['Lifespan']"
   ]
  },
  {
   "cell_type": "code",
   "execution_count": 250,
   "id": "2271f5bb",
   "metadata": {},
   "outputs": [
    {
     "data": {
      "text/html": [
       "<div>\n",
       "<style scoped>\n",
       "    .dataframe tbody tr th:only-of-type {\n",
       "        vertical-align: middle;\n",
       "    }\n",
       "\n",
       "    .dataframe tbody tr th {\n",
       "        vertical-align: top;\n",
       "    }\n",
       "\n",
       "    .dataframe thead th {\n",
       "        text-align: right;\n",
       "    }\n",
       "</style>\n",
       "<table border=\"1\" class=\"dataframe\">\n",
       "  <thead>\n",
       "    <tr style=\"text-align: right;\">\n",
       "      <th></th>\n",
       "      <th>CustomerID</th>\n",
       "      <th>NumTransactions</th>\n",
       "      <th>TotalQuantity</th>\n",
       "      <th>TotalRevenue</th>\n",
       "      <th>FirstPurchaseDate</th>\n",
       "      <th>LastPurchaseDate</th>\n",
       "      <th>AOV</th>\n",
       "      <th>CustomerAge</th>\n",
       "      <th>PurchaseFrequency</th>\n",
       "      <th>Lifespan</th>\n",
       "      <th>CLV</th>\n",
       "    </tr>\n",
       "  </thead>\n",
       "  <tbody>\n",
       "    <tr>\n",
       "      <th>0</th>\n",
       "      <td>12346.0</td>\n",
       "      <td>2</td>\n",
       "      <td>0</td>\n",
       "      <td>0.00</td>\n",
       "      <td>2011-01-18 10:01:00</td>\n",
       "      <td>2011-01-18 10:17:00</td>\n",
       "      <td>0.000000</td>\n",
       "      <td>1</td>\n",
       "      <td>2.000000</td>\n",
       "      <td>365</td>\n",
       "      <td>0.000000</td>\n",
       "    </tr>\n",
       "    <tr>\n",
       "      <th>1</th>\n",
       "      <td>12347.0</td>\n",
       "      <td>7</td>\n",
       "      <td>2458</td>\n",
       "      <td>4310.00</td>\n",
       "      <td>2010-07-12 14:57:00</td>\n",
       "      <td>2011-10-31 12:25:00</td>\n",
       "      <td>615.714286</td>\n",
       "      <td>475</td>\n",
       "      <td>0.014737</td>\n",
       "      <td>365</td>\n",
       "      <td>3311.894737</td>\n",
       "    </tr>\n",
       "    <tr>\n",
       "      <th>2</th>\n",
       "      <td>12348.0</td>\n",
       "      <td>4</td>\n",
       "      <td>2341</td>\n",
       "      <td>1797.24</td>\n",
       "      <td>2010-12-16 19:09:00</td>\n",
       "      <td>2011-09-25 13:13:00</td>\n",
       "      <td>449.310000</td>\n",
       "      <td>282</td>\n",
       "      <td>0.014184</td>\n",
       "      <td>365</td>\n",
       "      <td>2326.214894</td>\n",
       "    </tr>\n",
       "    <tr>\n",
       "      <th>3</th>\n",
       "      <td>12349.0</td>\n",
       "      <td>1</td>\n",
       "      <td>631</td>\n",
       "      <td>1757.55</td>\n",
       "      <td>2011-11-21 09:51:00</td>\n",
       "      <td>2011-11-21 09:51:00</td>\n",
       "      <td>1757.550000</td>\n",
       "      <td>1</td>\n",
       "      <td>1.000000</td>\n",
       "      <td>365</td>\n",
       "      <td>641505.750000</td>\n",
       "    </tr>\n",
       "    <tr>\n",
       "      <th>4</th>\n",
       "      <td>12350.0</td>\n",
       "      <td>1</td>\n",
       "      <td>197</td>\n",
       "      <td>334.40</td>\n",
       "      <td>2011-02-02 16:01:00</td>\n",
       "      <td>2011-02-02 16:01:00</td>\n",
       "      <td>334.400000</td>\n",
       "      <td>1</td>\n",
       "      <td>1.000000</td>\n",
       "      <td>365</td>\n",
       "      <td>122056.000000</td>\n",
       "    </tr>\n",
       "    <tr>\n",
       "      <th>...</th>\n",
       "      <td>...</td>\n",
       "      <td>...</td>\n",
       "      <td>...</td>\n",
       "      <td>...</td>\n",
       "      <td>...</td>\n",
       "      <td>...</td>\n",
       "      <td>...</td>\n",
       "      <td>...</td>\n",
       "      <td>...</td>\n",
       "      <td>...</td>\n",
       "      <td>...</td>\n",
       "    </tr>\n",
       "    <tr>\n",
       "      <th>4368</th>\n",
       "      <td>18281.0</td>\n",
       "      <td>1</td>\n",
       "      <td>54</td>\n",
       "      <td>80.82</td>\n",
       "      <td>2011-12-06 10:53:00</td>\n",
       "      <td>2011-12-06 10:53:00</td>\n",
       "      <td>80.820000</td>\n",
       "      <td>1</td>\n",
       "      <td>1.000000</td>\n",
       "      <td>365</td>\n",
       "      <td>29499.300000</td>\n",
       "    </tr>\n",
       "    <tr>\n",
       "      <th>4369</th>\n",
       "      <td>18282.0</td>\n",
       "      <td>3</td>\n",
       "      <td>98</td>\n",
       "      <td>176.60</td>\n",
       "      <td>2011-02-12 11:43:00</td>\n",
       "      <td>2011-09-08 15:10:00</td>\n",
       "      <td>58.866667</td>\n",
       "      <td>208</td>\n",
       "      <td>0.014423</td>\n",
       "      <td>365</td>\n",
       "      <td>309.899038</td>\n",
       "    </tr>\n",
       "    <tr>\n",
       "      <th>4370</th>\n",
       "      <td>18283.0</td>\n",
       "      <td>16</td>\n",
       "      <td>1357</td>\n",
       "      <td>2045.53</td>\n",
       "      <td>2011-01-23 14:58:00</td>\n",
       "      <td>2011-11-30 12:59:00</td>\n",
       "      <td>127.845625</td>\n",
       "      <td>310</td>\n",
       "      <td>0.051613</td>\n",
       "      <td>365</td>\n",
       "      <td>2408.446613</td>\n",
       "    </tr>\n",
       "    <tr>\n",
       "      <th>4371</th>\n",
       "      <td>18287.0</td>\n",
       "      <td>3</td>\n",
       "      <td>1586</td>\n",
       "      <td>1837.28</td>\n",
       "      <td>2011-05-22 10:39:00</td>\n",
       "      <td>2011-12-10 10:23:00</td>\n",
       "      <td>612.426667</td>\n",
       "      <td>201</td>\n",
       "      <td>0.014925</td>\n",
       "      <td>365</td>\n",
       "      <td>3336.354229</td>\n",
       "    </tr>\n",
       "    <tr>\n",
       "      <th>4372</th>\n",
       "      <td>Anonymous</td>\n",
       "      <td>3710</td>\n",
       "      <td>269651</td>\n",
       "      <td>1447487.53</td>\n",
       "      <td>2010-01-12 11:52:00</td>\n",
       "      <td>2011-12-10 16:42:00</td>\n",
       "      <td>390.158364</td>\n",
       "      <td>697</td>\n",
       "      <td>5.322812</td>\n",
       "      <td>365</td>\n",
       "      <td>758009.969082</td>\n",
       "    </tr>\n",
       "  </tbody>\n",
       "</table>\n",
       "<p>4373 rows × 11 columns</p>\n",
       "</div>"
      ],
      "text/plain": [
       "     CustomerID  NumTransactions  TotalQuantity  TotalRevenue  \\\n",
       "0       12346.0                2              0          0.00   \n",
       "1       12347.0                7           2458       4310.00   \n",
       "2       12348.0                4           2341       1797.24   \n",
       "3       12349.0                1            631       1757.55   \n",
       "4       12350.0                1            197        334.40   \n",
       "...         ...              ...            ...           ...   \n",
       "4368    18281.0                1             54         80.82   \n",
       "4369    18282.0                3             98        176.60   \n",
       "4370    18283.0               16           1357       2045.53   \n",
       "4371    18287.0                3           1586       1837.28   \n",
       "4372  Anonymous             3710         269651    1447487.53   \n",
       "\n",
       "       FirstPurchaseDate    LastPurchaseDate          AOV  CustomerAge  \\\n",
       "0    2011-01-18 10:01:00 2011-01-18 10:17:00     0.000000            1   \n",
       "1    2010-07-12 14:57:00 2011-10-31 12:25:00   615.714286          475   \n",
       "2    2010-12-16 19:09:00 2011-09-25 13:13:00   449.310000          282   \n",
       "3    2011-11-21 09:51:00 2011-11-21 09:51:00  1757.550000            1   \n",
       "4    2011-02-02 16:01:00 2011-02-02 16:01:00   334.400000            1   \n",
       "...                  ...                 ...          ...          ...   \n",
       "4368 2011-12-06 10:53:00 2011-12-06 10:53:00    80.820000            1   \n",
       "4369 2011-02-12 11:43:00 2011-09-08 15:10:00    58.866667          208   \n",
       "4370 2011-01-23 14:58:00 2011-11-30 12:59:00   127.845625          310   \n",
       "4371 2011-05-22 10:39:00 2011-12-10 10:23:00   612.426667          201   \n",
       "4372 2010-01-12 11:52:00 2011-12-10 16:42:00   390.158364          697   \n",
       "\n",
       "      PurchaseFrequency  Lifespan            CLV  \n",
       "0              2.000000       365       0.000000  \n",
       "1              0.014737       365    3311.894737  \n",
       "2              0.014184       365    2326.214894  \n",
       "3              1.000000       365  641505.750000  \n",
       "4              1.000000       365  122056.000000  \n",
       "...                 ...       ...            ...  \n",
       "4368           1.000000       365   29499.300000  \n",
       "4369           0.014423       365     309.899038  \n",
       "4370           0.051613       365    2408.446613  \n",
       "4371           0.014925       365    3336.354229  \n",
       "4372           5.322812       365  758009.969082  \n",
       "\n",
       "[4373 rows x 11 columns]"
      ]
     },
     "execution_count": 250,
     "metadata": {},
     "output_type": "execute_result"
    }
   ],
   "source": [
    "customer_data"
   ]
  },
  {
   "cell_type": "markdown",
   "id": "dee9c54b",
   "metadata": {},
   "source": [
    "We will use a simple linear regression model:\n",
    "\n",
    "Feature Selection: Choose relevant features.\n",
    "\n",
    "Split Data: Split the data into training and testing sets.\n",
    "\n",
    "Train Model: Train a regression model.\n",
    "\n",
    "Evaluate Model: Evaluate the model using appropriate metrics (e.g., RMSE, MAE)."
   ]
  },
  {
   "cell_type": "code",
   "execution_count": 251,
   "id": "92b70863",
   "metadata": {},
   "outputs": [],
   "source": [
    "from sklearn.model_selection import train_test_split\n",
    "from sklearn.linear_model import LinearRegression\n",
    "from sklearn.metrics import classification_report\n",
    "from sklearn.metrics import mean_squared_error, mean_absolute_error"
   ]
  },
  {
   "cell_type": "code",
   "execution_count": 252,
   "id": "5855a5ef",
   "metadata": {},
   "outputs": [],
   "source": [
    "features = ['NumTransactions', 'TotalQuantity', 'AOV', 'PurchaseFrequency', 'CustomerAge']"
   ]
  },
  {
   "cell_type": "code",
   "execution_count": 253,
   "id": "31d34c64",
   "metadata": {},
   "outputs": [],
   "source": [
    "X = customer_data[features]\n",
    "y = customer_data['CLV']\n",
    "X_train, X_test, y_train, y_test = train_test_split(X, y, test_size=0.2, random_state=42)"
   ]
  },
  {
   "cell_type": "code",
   "execution_count": 254,
   "id": "d731ce23",
   "metadata": {},
   "outputs": [
    {
     "data": {
      "text/html": [
       "<style>#sk-container-id-6 {color: black;background-color: white;}#sk-container-id-6 pre{padding: 0;}#sk-container-id-6 div.sk-toggleable {background-color: white;}#sk-container-id-6 label.sk-toggleable__label {cursor: pointer;display: block;width: 100%;margin-bottom: 0;padding: 0.3em;box-sizing: border-box;text-align: center;}#sk-container-id-6 label.sk-toggleable__label-arrow:before {content: \"▸\";float: left;margin-right: 0.25em;color: #696969;}#sk-container-id-6 label.sk-toggleable__label-arrow:hover:before {color: black;}#sk-container-id-6 div.sk-estimator:hover label.sk-toggleable__label-arrow:before {color: black;}#sk-container-id-6 div.sk-toggleable__content {max-height: 0;max-width: 0;overflow: hidden;text-align: left;background-color: #f0f8ff;}#sk-container-id-6 div.sk-toggleable__content pre {margin: 0.2em;color: black;border-radius: 0.25em;background-color: #f0f8ff;}#sk-container-id-6 input.sk-toggleable__control:checked~div.sk-toggleable__content {max-height: 200px;max-width: 100%;overflow: auto;}#sk-container-id-6 input.sk-toggleable__control:checked~label.sk-toggleable__label-arrow:before {content: \"▾\";}#sk-container-id-6 div.sk-estimator input.sk-toggleable__control:checked~label.sk-toggleable__label {background-color: #d4ebff;}#sk-container-id-6 div.sk-label input.sk-toggleable__control:checked~label.sk-toggleable__label {background-color: #d4ebff;}#sk-container-id-6 input.sk-hidden--visually {border: 0;clip: rect(1px 1px 1px 1px);clip: rect(1px, 1px, 1px, 1px);height: 1px;margin: -1px;overflow: hidden;padding: 0;position: absolute;width: 1px;}#sk-container-id-6 div.sk-estimator {font-family: monospace;background-color: #f0f8ff;border: 1px dotted black;border-radius: 0.25em;box-sizing: border-box;margin-bottom: 0.5em;}#sk-container-id-6 div.sk-estimator:hover {background-color: #d4ebff;}#sk-container-id-6 div.sk-parallel-item::after {content: \"\";width: 100%;border-bottom: 1px solid gray;flex-grow: 1;}#sk-container-id-6 div.sk-label:hover label.sk-toggleable__label {background-color: #d4ebff;}#sk-container-id-6 div.sk-serial::before {content: \"\";position: absolute;border-left: 1px solid gray;box-sizing: border-box;top: 0;bottom: 0;left: 50%;z-index: 0;}#sk-container-id-6 div.sk-serial {display: flex;flex-direction: column;align-items: center;background-color: white;padding-right: 0.2em;padding-left: 0.2em;position: relative;}#sk-container-id-6 div.sk-item {position: relative;z-index: 1;}#sk-container-id-6 div.sk-parallel {display: flex;align-items: stretch;justify-content: center;background-color: white;position: relative;}#sk-container-id-6 div.sk-item::before, #sk-container-id-6 div.sk-parallel-item::before {content: \"\";position: absolute;border-left: 1px solid gray;box-sizing: border-box;top: 0;bottom: 0;left: 50%;z-index: -1;}#sk-container-id-6 div.sk-parallel-item {display: flex;flex-direction: column;z-index: 1;position: relative;background-color: white;}#sk-container-id-6 div.sk-parallel-item:first-child::after {align-self: flex-end;width: 50%;}#sk-container-id-6 div.sk-parallel-item:last-child::after {align-self: flex-start;width: 50%;}#sk-container-id-6 div.sk-parallel-item:only-child::after {width: 0;}#sk-container-id-6 div.sk-dashed-wrapped {border: 1px dashed gray;margin: 0 0.4em 0.5em 0.4em;box-sizing: border-box;padding-bottom: 0.4em;background-color: white;}#sk-container-id-6 div.sk-label label {font-family: monospace;font-weight: bold;display: inline-block;line-height: 1.2em;}#sk-container-id-6 div.sk-label-container {text-align: center;}#sk-container-id-6 div.sk-container {/* jupyter's `normalize.less` sets `[hidden] { display: none; }` but bootstrap.min.css set `[hidden] { display: none !important; }` so we also need the `!important` here to be able to override the default hidden behavior on the sphinx rendered scikit-learn.org. See: https://github.com/scikit-learn/scikit-learn/issues/21755 */display: inline-block !important;position: relative;}#sk-container-id-6 div.sk-text-repr-fallback {display: none;}</style><div id=\"sk-container-id-6\" class=\"sk-top-container\"><div class=\"sk-text-repr-fallback\"><pre>LinearRegression()</pre><b>In a Jupyter environment, please rerun this cell to show the HTML representation or trust the notebook. <br />On GitHub, the HTML representation is unable to render, please try loading this page with nbviewer.org.</b></div><div class=\"sk-container\" hidden><div class=\"sk-item\"><div class=\"sk-estimator sk-toggleable\"><input class=\"sk-toggleable__control sk-hidden--visually\" id=\"sk-estimator-id-6\" type=\"checkbox\" checked><label for=\"sk-estimator-id-6\" class=\"sk-toggleable__label sk-toggleable__label-arrow\">LinearRegression</label><div class=\"sk-toggleable__content\"><pre>LinearRegression()</pre></div></div></div></div></div>"
      ],
      "text/plain": [
       "LinearRegression()"
      ]
     },
     "execution_count": 254,
     "metadata": {},
     "output_type": "execute_result"
    }
   ],
   "source": [
    "model = LinearRegression()\n",
    "model.fit(X_train, y_train)"
   ]
  },
  {
   "cell_type": "code",
   "execution_count": 255,
   "id": "8ba665de",
   "metadata": {},
   "outputs": [],
   "source": [
    "y_pred = model.predict(X_test)\n",
    "rmse = mean_squared_error(y_test, y_pred, squared=False)\n",
    "mae = mean_absolute_error(y_test, y_pred)\n"
   ]
  },
  {
   "cell_type": "code",
   "execution_count": 256,
   "id": "e89b1ecc",
   "metadata": {},
   "outputs": [
    {
     "name": "stdout",
     "output_type": "stream",
     "text": [
      "RMSE: 166021.46060925451\n",
      "MAE: 40810.51392229621\n"
     ]
    }
   ],
   "source": [
    "print(f'RMSE: {rmse}')\n",
    "print(f'MAE: {mae}')"
   ]
  },
  {
   "cell_type": "code",
   "execution_count": 257,
   "id": "69b8ffc3",
   "metadata": {},
   "outputs": [],
   "source": [
    "def symmetric_mean_absolute_percentage_error(y_true, y_pred):\n",
    "    return np.mean(2 * np.abs(y_pred - y_true) / (np.abs(y_true) + np.abs(y_pred))) * 100"
   ]
  },
  {
   "cell_type": "code",
   "execution_count": 258,
   "id": "3aab200e",
   "metadata": {},
   "outputs": [
    {
     "data": {
      "text/plain": [
       "126.68570133992452"
      ]
     },
     "execution_count": 258,
     "metadata": {},
     "output_type": "execute_result"
    }
   ],
   "source": [
    "symmetric_mean_absolute_percentage_error(y_test, y_pred)"
   ]
  },
  {
   "cell_type": "code",
   "execution_count": 259,
   "id": "09505f36",
   "metadata": {},
   "outputs": [
    {
     "data": {
      "image/png": "[encoded data removed]",
      "text/plain": [
       "<Figure size 1400x700 with 1 Axes>"
      ]
     },
     "metadata": {},
     "output_type": "display_data"
    }
   ],
   "source": [
    "y_test_array = np.array(y_test)\n",
    "y_pred_array = np.array(y_pred)\n",
    "\n",
    "sorted_indices = np.argsort(y_test_array)\n",
    "y_test_sorted = y_test_array[sorted_indices]\n",
    "y_pred_sorted = y_pred_array[sorted_indices]\n",
    "\n",
    "plt.figure(figsize=(14, 7))\n",
    "plt.plot(y_test_sorted, label='Actual CLV', color='b')\n",
    "plt.plot(y_pred_sorted, label='Predicted CLV', color='r')\n",
    "plt.xlabel('Sample Index')\n",
    "plt.ylabel('Customer Lifetime Value')\n",
    "plt.title('Actual vs Predicted Customer Lifetime Value')\n",
    "plt.legend()\n",
    "plt.show()"
   ]
  },
  {
   "cell_type": "markdown",
   "id": "215d787f",
   "metadata": {},
   "source": [
    "High values of RMSE, MAE, sMAPE suggest that the model's predictions are not very accurate."
   ]
  },
  {
   "cell_type": "markdown",
   "id": "e34f0369",
   "metadata": {},
   "source": [
    "# RFM MODEL"
   ]
  },
  {
   "cell_type": "markdown",
   "id": "a679815d",
   "metadata": {},
   "source": [
    "features for modeling.\n",
    "\n",
    "Recency: Time since last purchase.\n",
    "    \n",
    "Frequency: Number of purchases in a given period.\n",
    "    \n",
    "Monetary: Total spend in a given period."
   ]
  },
  {
   "cell_type": "code",
   "execution_count": 260,
   "id": "90e150b1",
   "metadata": {},
   "outputs": [],
   "source": [
    "import pandas as pd\n",
    "from datetime import datetime, timedelta\n",
    "from sklearn.model_selection import train_test_split\n",
    "from sklearn.linear_model import LinearRegression\n",
    "from sklearn.metrics import mean_squared_error"
   ]
  },
  {
   "cell_type": "code",
   "execution_count": 261,
   "id": "f6b2b676",
   "metadata": {},
   "outputs": [],
   "source": [
    "df = pd.read_csv('online_retail_II(2010-2011).csv',encoding='latin1')"
   ]
  },
  {
   "cell_type": "code",
   "execution_count": 262,
   "id": "844670bd",
   "metadata": {},
   "outputs": [],
   "source": [
    "df['InvoiceDate'] = pd.to_datetime(df['InvoiceDate'])\n",
    "\n",
    "df['TotalAmount'] = df['Quantity'] * df['Price']\n"
   ]
  },
  {
   "cell_type": "code",
   "execution_count": 263,
   "id": "e3acdd35",
   "metadata": {},
   "outputs": [],
   "source": [
    "snapshot_date = df['InvoiceDate'].max() + timedelta(days=1)\n",
    "\n",
    "rfm = df.groupby('Customer ID').agg({\n",
    "    'InvoiceDate': lambda x: (snapshot_date - x.max()).days,  # Recency\n",
    "    'Invoice': 'nunique',  # Frequency\n",
    "    'TotalAmount': 'sum'  # Monetary\n",
    "}).reset_index()"
   ]
  },
  {
   "cell_type": "code",
   "execution_count": 264,
   "id": "bbf27e87",
   "metadata": {},
   "outputs": [],
   "source": [
    "rfm = df.groupby('Customer ID').agg({\n",
    "    'InvoiceDate': lambda x: (snapshot_date - x.max()).days,  # Recency\n",
    "    'Invoice': 'nunique',  # Frequency\n",
    "    'TotalAmount': 'sum'  # Monetary\n",
    "}).reset_index()"
   ]
  },
  {
   "cell_type": "code",
   "execution_count": 265,
   "id": "09537688",
   "metadata": {},
   "outputs": [],
   "source": [
    "merged_df = pd.merge(df, rfm[['Customer ID', 'Invoice', 'TotalAmount']], on='Customer ID', how='left')"
   ]
  },
  {
   "cell_type": "code",
   "execution_count": 266,
   "id": "8763ef04",
   "metadata": {},
   "outputs": [],
   "source": [
    "merged_df['R_Score'] = pd.qcut(rfm['InvoiceDate'], 5, labels=False, duplicates='drop')\n",
    "merged_df['F_Score'] = pd.qcut(rfm['Invoice'], 5, labels=False, duplicates='drop')\n",
    "merged_df['M_Score'] = pd.qcut(rfm['TotalAmount'], 5, labels=False, duplicates='drop')"
   ]
  },
  {
   "cell_type": "code",
   "execution_count": 267,
   "id": "0760b9a9",
   "metadata": {},
   "outputs": [],
   "source": [
    "merged_df.dropna(subset=['R_Score', 'F_Score', 'M_Score'], inplace=True)\n"
   ]
  },
  {
   "cell_type": "code",
   "execution_count": 268,
   "id": "e0713b4a",
   "metadata": {},
   "outputs": [],
   "source": [
    "X = merged_df[['R_Score', 'F_Score', 'M_Score']]  # Features: RFM scores\n",
    "y = merged_df['TotalAmount_x']  # Target variable: Adjust based on your CLV definition"
   ]
  },
  {
   "cell_type": "code",
   "execution_count": 269,
   "id": "fb9b19ac",
   "metadata": {},
   "outputs": [
    {
     "data": {
      "text/html": [
       "<style>#sk-container-id-7 {color: black;background-color: white;}#sk-container-id-7 pre{padding: 0;}#sk-container-id-7 div.sk-toggleable {background-color: white;}#sk-container-id-7 label.sk-toggleable__label {cursor: pointer;display: block;width: 100%;margin-bottom: 0;padding: 0.3em;box-sizing: border-box;text-align: center;}#sk-container-id-7 label.sk-toggleable__label-arrow:before {content: \"▸\";float: left;margin-right: 0.25em;color: #696969;}#sk-container-id-7 label.sk-toggleable__label-arrow:hover:before {color: black;}#sk-container-id-7 div.sk-estimator:hover label.sk-toggleable__label-arrow:before {color: black;}#sk-container-id-7 div.sk-toggleable__content {max-height: 0;max-width: 0;overflow: hidden;text-align: left;background-color: #f0f8ff;}#sk-container-id-7 div.sk-toggleable__content pre {margin: 0.2em;color: black;border-radius: 0.25em;background-color: #f0f8ff;}#sk-container-id-7 input.sk-toggleable__control:checked~div.sk-toggleable__content {max-height: 200px;max-width: 100%;overflow: auto;}#sk-container-id-7 input.sk-toggleable__control:checked~label.sk-toggleable__label-arrow:before {content: \"▾\";}#sk-container-id-7 div.sk-estimator input.sk-toggleable__control:checked~label.sk-toggleable__label {background-color: #d4ebff;}#sk-container-id-7 div.sk-label input.sk-toggleable__control:checked~label.sk-toggleable__label {background-color: #d4ebff;}#sk-container-id-7 input.sk-hidden--visually {border: 0;clip: rect(1px 1px 1px 1px);clip: rect(1px, 1px, 1px, 1px);height: 1px;margin: -1px;overflow: hidden;padding: 0;position: absolute;width: 1px;}#sk-container-id-7 div.sk-estimator {font-family: monospace;background-color: #f0f8ff;border: 1px dotted black;border-radius: 0.25em;box-sizing: border-box;margin-bottom: 0.5em;}#sk-container-id-7 div.sk-estimator:hover {background-color: #d4ebff;}#sk-container-id-7 div.sk-parallel-item::after {content: \"\";width: 100%;border-bottom: 1px solid gray;flex-grow: 1;}#sk-container-id-7 div.sk-label:hover label.sk-toggleable__label {background-color: #d4ebff;}#sk-container-id-7 div.sk-serial::before {content: \"\";position: absolute;border-left: 1px solid gray;box-sizing: border-box;top: 0;bottom: 0;left: 50%;z-index: 0;}#sk-container-id-7 div.sk-serial {display: flex;flex-direction: column;align-items: center;background-color: white;padding-right: 0.2em;padding-left: 0.2em;position: relative;}#sk-container-id-7 div.sk-item {position: relative;z-index: 1;}#sk-container-id-7 div.sk-parallel {display: flex;align-items: stretch;justify-content: center;background-color: white;position: relative;}#sk-container-id-7 div.sk-item::before, #sk-container-id-7 div.sk-parallel-item::before {content: \"\";position: absolute;border-left: 1px solid gray;box-sizing: border-box;top: 0;bottom: 0;left: 50%;z-index: -1;}#sk-container-id-7 div.sk-parallel-item {display: flex;flex-direction: column;z-index: 1;position: relative;background-color: white;}#sk-container-id-7 div.sk-parallel-item:first-child::after {align-self: flex-end;width: 50%;}#sk-container-id-7 div.sk-parallel-item:last-child::after {align-self: flex-start;width: 50%;}#sk-container-id-7 div.sk-parallel-item:only-child::after {width: 0;}#sk-container-id-7 div.sk-dashed-wrapped {border: 1px dashed gray;margin: 0 0.4em 0.5em 0.4em;box-sizing: border-box;padding-bottom: 0.4em;background-color: white;}#sk-container-id-7 div.sk-label label {font-family: monospace;font-weight: bold;display: inline-block;line-height: 1.2em;}#sk-container-id-7 div.sk-label-container {text-align: center;}#sk-container-id-7 div.sk-container {/* jupyter's `normalize.less` sets `[hidden] { display: none; }` but bootstrap.min.css set `[hidden] { display: none !important; }` so we also need the `!important` here to be able to override the default hidden behavior on the sphinx rendered scikit-learn.org. See: https://github.com/scikit-learn/scikit-learn/issues/21755 */display: inline-block !important;position: relative;}#sk-container-id-7 div.sk-text-repr-fallback {display: none;}</style><div id=\"sk-container-id-7\" class=\"sk-top-container\"><div class=\"sk-text-repr-fallback\"><pre>LinearRegression()</pre><b>In a Jupyter environment, please rerun this cell to show the HTML representation or trust the notebook. <br />On GitHub, the HTML representation is unable to render, please try loading this page with nbviewer.org.</b></div><div class=\"sk-container\" hidden><div class=\"sk-item\"><div class=\"sk-estimator sk-toggleable\"><input class=\"sk-toggleable__control sk-hidden--visually\" id=\"sk-estimator-id-7\" type=\"checkbox\" checked><label for=\"sk-estimator-id-7\" class=\"sk-toggleable__label sk-toggleable__label-arrow\">LinearRegression</label><div class=\"sk-toggleable__content\"><pre>LinearRegression()</pre></div></div></div></div></div>"
      ],
      "text/plain": [
       "LinearRegression()"
      ]
     },
     "execution_count": 269,
     "metadata": {},
     "output_type": "execute_result"
    }
   ],
   "source": [
    "X_train, X_test, y_train, y_test = train_test_split(X, y, test_size=0.2, random_state=0)\n",
    "\n",
    "# 3. Train a linear regression model\n",
    "model = LinearRegression()\n",
    "model.fit(X_train, y_train)"
   ]
  },
  {
   "cell_type": "code",
   "execution_count": 270,
   "id": "b232d598",
   "metadata": {},
   "outputs": [
    {
     "name": "stdout",
     "output_type": "stream",
     "text": [
      "Mean Squared Error: 1139.8727010911307\n"
     ]
    }
   ],
   "source": [
    "y_pred = model.predict(X_test)\n",
    "mse = mean_squared_error(y_test, y_pred)\n",
    "print(f'Mean Squared Error: {mse}')\n"
   ]
  },
  {
   "cell_type": "code",
   "execution_count": 271,
   "id": "51bb3dd5",
   "metadata": {},
   "outputs": [],
   "source": [
    "rmse = mean_squared_error(y_test, y_pred, squared=False)\n",
    "mae = mean_absolute_error(y_test, y_pred)"
   ]
  },
  {
   "cell_type": "code",
   "execution_count": 272,
   "id": "554cc177",
   "metadata": {},
   "outputs": [
    {
     "data": {
      "text/plain": [
       "33.7620008454939"
      ]
     },
     "execution_count": 272,
     "metadata": {},
     "output_type": "execute_result"
    }
   ],
   "source": [
    "rmse\n"
   ]
  },
  {
   "cell_type": "code",
   "execution_count": 273,
   "id": "a16e8c70",
   "metadata": {},
   "outputs": [
    {
     "data": {
      "text/plain": [
       "15.905104363511317"
      ]
     },
     "execution_count": 273,
     "metadata": {},
     "output_type": "execute_result"
    }
   ],
   "source": [
    "mae"
   ]
  },
  {
   "cell_type": "code",
   "execution_count": 274,
   "id": "9fcdc15c",
   "metadata": {},
   "outputs": [
    {
     "data": {
      "text/plain": [
       "89.35552622695455"
      ]
     },
     "execution_count": 274,
     "metadata": {},
     "output_type": "execute_result"
    }
   ],
   "source": [
    "symmetric_mean_absolute_percentage_error(y_test, y_pred)"
   ]
  },
  {
   "cell_type": "markdown",
   "id": "1757003d",
   "metadata": {},
   "source": [
    "The error metrics have reduced by significant value..."
   ]
  }
 ],
 "metadata": {
  "kernelspec": {
   "display_name": "Python 3 (ipykernel)",
   "language": "python",
   "name": "python3"
  },
  "language_info": {
   "codemirror_mode": {
    "name": "ipython",
    "version": 3
   },
   "file_extension": ".py",
   "mimetype": "text/x-python",
   "name": "python",
   "nbconvert_exporter": "python",
   "pygments_lexer": "ipython3",
   "version": "3.11.3"
  }
 },
 "nbformat": 4,
 "nbformat_minor": 5
}
